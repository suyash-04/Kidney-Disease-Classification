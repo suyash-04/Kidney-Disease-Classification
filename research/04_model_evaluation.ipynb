{
 "cells": [
  {
   "cell_type": "code",
   "execution_count": 1,
   "metadata": {},
   "outputs": [],
   "source": [
    "import os"
   ]
  },
  {
   "cell_type": "code",
   "execution_count": 2,
   "metadata": {},
   "outputs": [
    {
     "data": {
      "text/plain": [
       "'d:\\\\codes\\\\mlops\\\\Kidney-Disease-Classification'"
      ]
     },
     "execution_count": 2,
     "metadata": {},
     "output_type": "execute_result"
    }
   ],
   "source": [
    "os.chdir(\"../\")\n",
    "%pwd"
   ]
  },
  {
   "cell_type": "code",
   "execution_count": 32,
   "metadata": {},
   "outputs": [],
   "source": [
    "\n",
    "import os\n",
    "import json \n",
    "with open('env.json', 'r') as f:\n",
    "    environ = json.load(f)"
   ]
  },
  {
   "cell_type": "code",
   "execution_count": 33,
   "metadata": {},
   "outputs": [],
   "source": [
    "from dataclasses import dataclass\n",
    "from pathlib import Path\n",
    "\n",
    "@dataclass(frozen=True)\n",
    "class EvaluationConfig:\n",
    "    model_path : Path\n",
    "    training_path : Path\n",
    "    params_image_size : list\n",
    "    all_params : dict\n",
    "    mlflow_uri : str\n",
    "    params_batch_size : int\n",
    "    "
   ]
  },
  {
   "cell_type": "code",
   "execution_count": 34,
   "metadata": {},
   "outputs": [],
   "source": [
    "from src.cnnClassifier.constants import *\n",
    "from src.cnnClassifier.utils.utils import read_yaml , create_direcories "
   ]
  },
  {
   "cell_type": "code",
   "execution_count": 35,
   "metadata": {},
   "outputs": [],
   "source": [
    "class ConfigurationManager:\n",
    "    def __init__(self, CONFIG_FILE_PATH = CONFIG_FILE_PATH, PARAMS_FILE_PATH = PARAMS_FILE_PATH):\n",
    "        self.config = read_yaml(CONFIG_FILE_PATH)\n",
    "        self.params = read_yaml(PARAMS_FILE_PATH)\n",
    "        create_direcories([self.config.artifacts_root])\n",
    "    \n",
    "    def get_evaluation_config(self) -> EvaluationConfig:\n",
    "        eval_config = EvaluationConfig(\n",
    "            model_path = Path(self.config.training.trained_model_path),\n",
    "            training_path = Path(\"artifacts/data_ingestion/kidney-ct-scan-image\"),\n",
    "            params_image_size = self.params.IMAGE_SIZE,\n",
    "            all_params = self.params,\n",
    "            mlflow_uri= environ.get(\"MLFLOW_TRACKING_URI\"),\n",
    "            params_batch_size = self.params.BATCH_SIZE,\n",
    "        )\n",
    "        return eval_config"
   ]
  },
  {
   "cell_type": "code",
   "execution_count": 36,
   "metadata": {},
   "outputs": [],
   "source": [
    "import tensorflow as tf\n",
    "from src.cnnClassifier.utils.utils import save_json\n",
    "import mlflow \n",
    "import mlflow.keras\n",
    "from urllib.parse import urlparse"
   ]
  },
  {
   "cell_type": "code",
   "execution_count": 37,
   "metadata": {},
   "outputs": [],
   "source": [
    "class Evaluation:\n",
    "    def __init__(self, config : EvaluationConfig):\n",
    "        self.config = config\n",
    "    \n",
    "    def _valid_generator(self):\n",
    "        data_generator = dict(\n",
    "            rescale = 1./255,\n",
    "            validation_split = 0.2\n",
    "        )\n",
    "        \n",
    "        data_flow = dict(\n",
    "            target_size = self.config.params_image_size[:-1],\n",
    "            batch_size = self.config.params_batch_size,\n",
    "            interpolation = 'bilinear'\n",
    "        )\n",
    "        valid_datagenerator  = tf.keras.preprocessing.image.ImageDataGenerator(\n",
    "            **data_generator # type: ignore\n",
    "        )\n",
    "        self.valid_generator = valid_datagenerator.flow_from_directory(\n",
    "            directory= self.config.training_path,\n",
    "            subset = \"validation\",\n",
    "            shuffle = True,\n",
    "            **data_flow # type: ignore\n",
    "        )\n",
    "        \n",
    "    @staticmethod\n",
    "    def load_model(path : Path)->tf.keras.Model:\n",
    "            return tf.keras.models.load_model(path) #type: ignore\n",
    "        \n",
    "    def evaluation(self):\n",
    "            self.model = self.load_model(self.config.model_path)\n",
    "            self._valid_generator()\n",
    "            self.score = self.model.evaluate(self.valid_generator)\n",
    "            \n",
    "    def save_score(self):\n",
    "            scores  = {\"loss \": self.score[0], \"accuracy\" : self.score[1]}\n",
    "            save_json(path = Path(\"scores.json\"), data= scores)\n",
    "    def log_into_mlflow(self):\n",
    "        mlflow.set_registry_uri(self.config.mlflow_uri)\n",
    "        tracking_url_type_store = urlparse(mlflow.get_tracking_uri()).scheme\n",
    "        \n",
    "        with mlflow.start_run():\n",
    "            mlflow.log_params(self.config.all_params)\n",
    "            mlflow.log_metrics(\n",
    "                {\"loss\": self.score[0], \"accuracy\": self.score[1]}\n",
    "            )\n",
    "            # Model registry does not work with file store\n",
    "            if tracking_url_type_store != \"file\":\n",
    "\n",
    "                # Register the model\n",
    "                # There are other ways to use the Model Registry, which depends on the use case,\n",
    "                # please refer to the doc for more information:\n",
    "                # https://mlflow.org/docs/latest/model-registry.html#api-workflow\n",
    "                mlflow.keras.log_model(self.model, \"model\", registered_model_name=\"InceptionV3\")\n",
    "            else:\n",
    "                mlflow.keras.log_model(self.model, \"model\")"
   ]
  },
  {
   "cell_type": "code",
   "execution_count": 38,
   "metadata": {},
   "outputs": [],
   "source": [
    "import sys\n",
    "from src.cnnClassifier.exception.exception  import  customexception"
   ]
  },
  {
   "cell_type": "code",
   "execution_count": 39,
   "metadata": {},
   "outputs": [
    {
     "name": "stdout",
     "output_type": "stream",
     "text": [
      "[2025-01-03 18:26:51,827: INFO: utils: yaml file : config\\config.yaml read successfully]\n",
      "[2025-01-03 18:26:51,851: INFO: utils: yaml file : params.yaml read successfully]\n"
     ]
    },
    {
     "name": "stdout",
     "output_type": "stream",
     "text": [
      "[2025-01-03 18:26:51,857: INFO: utils: directory : artifacts created successfully]\n",
      "Found 93 images belonging to 2 classes.\n",
      "Found 93 images belonging to 2 classes.\n",
      "10/10 [==============================] - 11s 641ms/step - loss: 0.4701 - accuracy: 0.8172\n",
      "[2025-01-03 18:27:10,965: INFO: utils: json file saved at: scores.json]\n"
     ]
    },
    {
     "name": "stderr",
     "output_type": "stream",
     "text": [
      "2025/01/03 18:27:12 WARNING mlflow.tensorflow: You are saving a TensorFlow Core model or Keras model without a signature. Inference with mlflow.pyfunc.spark_udf() will not work unless the model's pyfunc representation accepts pandas DataFrames as inference inputs.\n"
     ]
    },
    {
     "name": "stdout",
     "output_type": "stream",
     "text": [
      "[2025-01-03 18:27:45,914: WARNING: save: Found untraced functions such as _jit_compiled_convolution_op, _jit_compiled_convolution_op, _jit_compiled_convolution_op, _jit_compiled_convolution_op, _jit_compiled_convolution_op while saving (showing 5 of 95). These functions will not be directly callable after loading.]\n",
      "[2025-01-03 18:27:52,765: INFO: builder_impl: Assets written to: C:\\Users\\Suyash\\AppData\\Local\\Temp\\tmp15pieu11\\model\\data\\model\\assets]\n"
     ]
    },
    {
     "name": "stderr",
     "output_type": "stream",
     "text": [
      "Registered model 'InceptionV3' already exists. Creating a new version of this model...\n",
      "2025/01/03 18:29:18 INFO mlflow.tracking._model_registry.client: Waiting up to 300 seconds for model version to finish creation.                     Model name: InceptionV3, version 2\n",
      "Created version '2' of model 'InceptionV3'.\n"
     ]
    }
   ],
   "source": [
    "try:\n",
    "    config = ConfigurationManager()\n",
    "    evaluation_config = config.get_evaluation_config()\n",
    "    evaluation = Evaluation(evaluation_config)\n",
    "    evaluation._valid_generator()\n",
    "    evaluation.evaluation()\n",
    "    evaluation.save_score()\n",
    "    evaluation.log_into_mlflow()\n",
    "except Exception as e:\n",
    "    raise customexception(e, sys)"
   ]
  },
  {
   "cell_type": "code",
   "execution_count": null,
   "metadata": {},
   "outputs": [],
   "source": []
  }
 ],
 "metadata": {
  "kernelspec": {
   "display_name": "venv",
   "language": "python",
   "name": "python3"
  },
  "language_info": {
   "codemirror_mode": {
    "name": "ipython",
    "version": 3
   },
   "file_extension": ".py",
   "mimetype": "text/x-python",
   "name": "python",
   "nbconvert_exporter": "python",
   "pygments_lexer": "ipython3",
   "version": "3.11.0"
  }
 },
 "nbformat": 4,
 "nbformat_minor": 2
}
