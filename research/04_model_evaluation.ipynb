{
 "cells": [
  {
   "cell_type": "code",
   "execution_count": 1,
   "metadata": {},
   "outputs": [],
   "source": [
    "import os"
   ]
  },
  {
   "cell_type": "code",
   "execution_count": 2,
   "metadata": {},
   "outputs": [
    {
     "data": {
      "text/plain": [
       "'d:\\\\codes\\\\mlops\\\\Kidney-Disease-Classification'"
      ]
     },
     "execution_count": 2,
     "metadata": {},
     "output_type": "execute_result"
    }
   ],
   "source": [
    "os.chdir(\"../\")\n",
    "%pwd"
   ]
  },
  {
   "cell_type": "code",
   "execution_count": 3,
   "metadata": {},
   "outputs": [],
   "source": [
    "from dataclasses import dataclass\n",
    "from pathlib import Path\n",
    "\n",
    "@dataclass(frozen=True)\n",
    "class EvaluationConfig:\n",
    "    model_path : Path\n",
    "    training_path : Path\n",
    "    params_image_size : list\n",
    "    all_params : dict\n",
    "    params_batch_size : int\n",
    "    "
   ]
  },
  {
   "cell_type": "code",
   "execution_count": 4,
   "metadata": {},
   "outputs": [],
   "source": [
    "from src.cnnClassifier.constants import *\n",
    "from src.cnnClassifier.utils.utils import read_yaml , create_direcories "
   ]
  },
  {
   "cell_type": "code",
   "execution_count": 5,
   "metadata": {},
   "outputs": [],
   "source": [
    "class ConfigurationManager:\n",
    "    def __init__(self, CONFIG_FILE_PATH = CONFIG_FILE_PATH, PARAMS_FILE_PATH = PARAMS_FILE_PATH):\n",
    "        self.config = read_yaml(CONFIG_FILE_PATH)\n",
    "        self.params = read_yaml(PARAMS_FILE_PATH)\n",
    "        create_direcories([self.config.artifacts_root])\n",
    "    \n",
    "    def get_evaluation_config(self) -> EvaluationConfig:\n",
    "        eval_config = EvaluationConfig(\n",
    "            model_path = Path(self.config.training.trained_model_path),\n",
    "            training_path = Path(\"artifacts/data_ingestion/kidney-ct-scan-image\"),\n",
    "            params_image_size = self.params.IMAGE_SIZE,\n",
    "            all_params = self.params,\n",
    "            params_batch_size = self.params.BATCH_SIZE,\n",
    "        )\n",
    "        return eval_config"
   ]
  },
  {
   "cell_type": "code",
   "execution_count": 6,
   "metadata": {},
   "outputs": [],
   "source": [
    "import tensorflow as tf\n",
    "from src.cnnClassifier.utils.utils import save_json"
   ]
  },
  {
   "cell_type": "code",
   "execution_count": 14,
   "metadata": {},
   "outputs": [],
   "source": [
    "class Evaluation:\n",
    "    def __init__(self, config : EvaluationConfig):\n",
    "        self.config = config\n",
    "    \n",
    "    def _valid_generator(self):\n",
    "        data_generator = dict(\n",
    "            rescale = 1./255,\n",
    "            validation_split = 0.2\n",
    "        )\n",
    "        \n",
    "        data_flow = dict(\n",
    "            target_size = self.config.params_image_size[:-1],\n",
    "            batch_size = self.config.params_batch_size,\n",
    "            interpolation = 'bilinear'\n",
    "        )\n",
    "        valid_datagenerator  = tf.keras.preprocessing.image.ImageDataGenerator(\n",
    "            **data_generator # type: ignore\n",
    "        )\n",
    "        self.valid_generator = valid_datagenerator.flow_from_directory(\n",
    "            directory= self.config.training_path,\n",
    "            subset = \"validation\",\n",
    "            shuffle = True,\n",
    "            **data_flow # type: ignore\n",
    "        )\n",
    "        \n",
    "    @staticmethod\n",
    "    def load_model(path : Path)->tf.keras.Model:\n",
    "            return tf.keras.models.load_model(path) #type: ignore\n",
    "        \n",
    "    def evaluation(self):\n",
    "            self.model = self.load_model(self.config.model_path)\n",
    "            self._valid_generator()\n",
    "            self.score = self.model.evaluate(self.valid_generator)\n",
    "            \n",
    "    def save_score(self):\n",
    "            scores  = {\"loss \": self.score[0], \"accuracy\" : self.score[1]}\n",
    "            save_json(path = Path(\"scores.json\"), data= scores)"
   ]
  },
  {
   "cell_type": "code",
   "execution_count": 15,
   "metadata": {},
   "outputs": [],
   "source": [
    "import sys\n",
    "from src.cnnClassifier.exception.exception  import  customexception"
   ]
  },
  {
   "cell_type": "code",
   "execution_count": 17,
   "metadata": {},
   "outputs": [
    {
     "name": "stdout",
     "output_type": "stream",
     "text": [
      "[2025-01-02 20:41:32,301: INFO: utils: yaml file : config\\config.yaml read successfully]\n",
      "[2025-01-02 20:41:32,309: INFO: utils: yaml file : params.yaml read successfully]\n",
      "[2025-01-02 20:41:32,312: INFO: utils: directory : artifacts created successfully]\n",
      "Found 93 images belonging to 2 classes.\n",
      "Found 93 images belonging to 2 classes.\n",
      "10/10 [==============================] - 16s 1s/step - loss: 0.5431 - accuracy: 0.8602\n",
      "[2025-01-02 20:41:56,957: INFO: utils: json file saved at: scores.json]\n"
     ]
    }
   ],
   "source": [
    "try:\n",
    "    config = ConfigurationManager()\n",
    "    evaluation_config = config.get_evaluation_config()\n",
    "    evaluation = Evaluation(evaluation_config)\n",
    "    evaluation._valid_generator()\n",
    "    evaluation.evaluation()\n",
    "    evaluation.save_score()\n",
    "\n",
    "except Exception as e:\n",
    "    raise customexception(e, sys)"
   ]
  },
  {
   "cell_type": "code",
   "execution_count": null,
   "metadata": {},
   "outputs": [],
   "source": []
  }
 ],
 "metadata": {
  "kernelspec": {
   "display_name": "venv",
   "language": "python",
   "name": "python3"
  },
  "language_info": {
   "codemirror_mode": {
    "name": "ipython",
    "version": 3
   },
   "file_extension": ".py",
   "mimetype": "text/x-python",
   "name": "python",
   "nbconvert_exporter": "python",
   "pygments_lexer": "ipython3",
   "version": "3.11.0"
  }
 },
 "nbformat": 4,
 "nbformat_minor": 2
}
