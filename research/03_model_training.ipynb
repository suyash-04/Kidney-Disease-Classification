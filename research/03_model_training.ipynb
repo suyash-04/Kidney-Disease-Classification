{
 "cells": [
  {
   "cell_type": "code",
   "execution_count": 1,
   "metadata": {},
   "outputs": [],
   "source": [
    "import os"
   ]
  },
  {
   "cell_type": "code",
   "execution_count": 2,
   "metadata": {},
   "outputs": [
    {
     "data": {
      "text/plain": [
       "'d:\\\\codes\\\\mlops\\\\Kidney-Disease-Classification'"
      ]
     },
     "execution_count": 2,
     "metadata": {},
     "output_type": "execute_result"
    }
   ],
   "source": [
    "os.chdir(\"../\")\n",
    "%pwd"
   ]
  },
  {
   "cell_type": "code",
   "execution_count": 26,
   "metadata": {},
   "outputs": [],
   "source": [
    "from dataclasses import dataclass\n",
    "from pathlib import Path\n",
    "\n",
    "@dataclass(frozen=True)\n",
    "class TrainingConfig:\n",
    "    root_dir: Path\n",
    "    trained_model_path : Path\n",
    "    updated_base_model_path : Path\n",
    "    training_path : Path\n",
    "    params_epochs : int\n",
    "    params_image_size : list\n",
    "    params_batch_size : int\n",
    "    params_is_augmentation : bool"
   ]
  },
  {
   "cell_type": "code",
   "execution_count": 27,
   "metadata": {},
   "outputs": [],
   "source": [
    "from src.cnnClassifier.constants import *\n",
    "from src.cnnClassifier.utils.utils import read_yaml , create_direcories"
   ]
  },
  {
   "cell_type": "code",
   "execution_count": 28,
   "metadata": {},
   "outputs": [],
   "source": [
    "class ConfigurationManager:\n",
    "    def __init__(self, CONFIG_FILE_PATH = CONFIG_FILE_PATH, PARAMS_FILE_PATH = PARAMS_FILE_PATH):\n",
    "        self.config = read_yaml(CONFIG_FILE_PATH)\n",
    "        self.params = read_yaml(PARAMS_FILE_PATH)\n",
    "        create_direcories([self.config.artifacts_root])\n",
    "    \n",
    "    def get_training_config(self) -> TrainingConfig:\n",
    "        config = self.config.training\n",
    "        prepare_base_model = self.config.prepare_base_model\n",
    "        params = self.params\n",
    "        training_data = os.path.join(self.config.data_ingestion.unzip_dir , \"kidney-ct-scan-image\")\n",
    "    \n",
    "        create_direcories([config.root_dir])\n",
    "        \n",
    "        training_config = TrainingConfig(\n",
    "            root_dir = Path(config.root_dir),\n",
    "            trained_model_path = Path(config.trained_model_path),\n",
    "            updated_base_model_path =Path(prepare_base_model.updated_base_model_path) ,\n",
    "            training_path = Path(training_data),\n",
    "            params_epochs = params.EPOCHS,\n",
    "            params_image_size = params.IMAGE_SIZE,\n",
    "            params_batch_size = params.BATCH_SIZE,\n",
    "            params_is_augmentation = params.AUGMENTATION\n",
    "        )\n",
    "        return training_config"
   ]
  },
  {
   "cell_type": "code",
   "execution_count": 29,
   "metadata": {},
   "outputs": [],
   "source": [
    "import sys\n",
    "import urllib.request as request \n",
    "import tensorflow as tf\n",
    "from src.cnnClassifier.exception.exception import customexception"
   ]
  },
  {
   "cell_type": "code",
   "execution_count": 30,
   "metadata": {},
   "outputs": [],
   "source": [
    "class Training:\n",
    "    def __init__(self, config : TrainingConfig):\n",
    "        self.config = config\n",
    "    \n",
    "    def get_base_model(self):\n",
    "        self.model = tf.keras.models.load_model(self.config.updated_base_model_path)\n",
    "    \n",
    "    def train_valid_generator(self):\n",
    "        \n",
    "        datagenerator_kwargs = dict(\n",
    "            rescale = 1./255,\n",
    "            validation_split = 0.2\n",
    "        )\n",
    "        \n",
    "        dataflow_kwargs = dict(\n",
    "            target_size = self.config.params_image_size[:-1],\n",
    "            batch_size = self.config.params_batch_size,\n",
    "            interpolation = 'bilinear'\n",
    "        )\n",
    "        \n",
    "        valid_datagenerator = tf.keras.preprocessing.image.ImageDataGenerator(\n",
    "          **datagenerator_kwargs   # type: ignore\n",
    "        )\n",
    "        \n",
    "        self.valid_generator = valid_datagenerator.flow_from_directory(\n",
    "            directory = self.config.training_path,\n",
    "            subset = 'validation',\n",
    "            shuffle = True,\n",
    "            **dataflow_kwargs # type: ignore\n",
    "        )\n",
    "        \n",
    "        if self.config.params_is_augmentation:\n",
    "            train_datagenerator = tf.keras.preprocessing.image.ImageDataGenerator(\n",
    "                rotation_range = 40,\n",
    "                width_shift_range = 0.2,\n",
    "                height_shift_range = 0.2,\n",
    "                shear_range = 0.2,\n",
    "                zoom_range = 0.2,\n",
    "                horizontal_flip = True,\n",
    "                **datagenerator_kwargs # type: ignore\n",
    "            )\n",
    "        else :\n",
    "            train_datagenerator = valid_datagenerator\n",
    "            \n",
    "        self.train_generator = train_datagenerator.flow_from_directory(\n",
    "                directory = self.config.training_path,\n",
    "                subset = 'training',\n",
    "                shuffle = True,\n",
    "                **dataflow_kwargs # type: ignore\n",
    "            )\n",
    "    @staticmethod\n",
    "    def save_model(model : tf.keras.Model, path : Path):\n",
    "        model.save(path)\n",
    "    \n",
    "    \n",
    "    def train(self):\n",
    "        self.steps_per_epoch = self.train_generator.samples// self.train_generator.batch_size\n",
    "        self.validation_steps = self.valid_generator.samples // self.valid_generator.batch_size\n",
    "\n",
    "        self.model.fit(\n",
    "            self.train_generator,\n",
    "            epochs=self.config.params_epochs,\n",
    "            steps_per_epoch=self.steps_per_epoch,\n",
    "            validation_steps=self.validation_steps,\n",
    "            validation_data=self.valid_generator\n",
    "        )\n",
    "\n",
    "        self.save_model(\n",
    "            path=self.config.trained_model_path,\n",
    "            model=self.model\n",
    "        )"
   ]
  },
  {
   "cell_type": "code",
   "execution_count": 31,
   "metadata": {},
   "outputs": [
    {
     "name": "stdout",
     "output_type": "stream",
     "text": [
      "[2025-01-01 22:29:36,093: INFO: utils: yaml file : config\\config.yaml read successfully]\n"
     ]
    },
    {
     "name": "stdout",
     "output_type": "stream",
     "text": [
      "[2025-01-01 22:29:36,117: INFO: utils: yaml file : params.yaml read successfully]\n",
      "[2025-01-01 22:29:36,126: INFO: utils: directory : artifacts created successfully]\n",
      "[2025-01-01 22:29:36,133: INFO: utils: directory : artifacts\\training created successfully]\n",
      "Found 93 images belonging to 2 classes.\n",
      "Found 372 images belonging to 2 classes.\n",
      "Epoch 1/20\n",
      "37/37 [==============================] - 36s 860ms/step - loss: 0.5897 - accuracy: 0.7541 - val_loss: 0.7424 - val_accuracy: 0.5000\n",
      "Epoch 2/20\n",
      "37/37 [==============================] - 30s 809ms/step - loss: 0.4149 - accuracy: 0.8398 - val_loss: 0.7178 - val_accuracy: 0.5222\n",
      "Epoch 3/20\n",
      "37/37 [==============================] - 31s 834ms/step - loss: 0.3224 - accuracy: 0.8591 - val_loss: 0.6398 - val_accuracy: 0.5222\n",
      "Epoch 4/20\n",
      "37/37 [==============================] - 30s 795ms/step - loss: 0.2904 - accuracy: 0.8729 - val_loss: 0.6002 - val_accuracy: 0.7222\n",
      "Epoch 5/20\n",
      "37/37 [==============================] - 27s 733ms/step - loss: 0.2533 - accuracy: 0.9144 - val_loss: 0.5746 - val_accuracy: 0.7333\n",
      "Epoch 6/20\n",
      "37/37 [==============================] - 30s 802ms/step - loss: 0.2189 - accuracy: 0.9227 - val_loss: 0.5209 - val_accuracy: 0.7444\n",
      "Epoch 7/20\n",
      "37/37 [==============================] - 27s 724ms/step - loss: 0.2266 - accuracy: 0.9199 - val_loss: 0.4996 - val_accuracy: 0.7556\n",
      "Epoch 8/20\n",
      "37/37 [==============================] - 29s 782ms/step - loss: 0.1809 - accuracy: 0.9254 - val_loss: 0.5424 - val_accuracy: 0.7667\n",
      "Epoch 9/20\n",
      "37/37 [==============================] - 27s 722ms/step - loss: 0.1455 - accuracy: 0.9392 - val_loss: 0.5141 - val_accuracy: 0.8778\n",
      "Epoch 10/20\n",
      "37/37 [==============================] - 27s 734ms/step - loss: 0.1858 - accuracy: 0.9392 - val_loss: 0.6170 - val_accuracy: 0.7889\n",
      "Epoch 11/20\n",
      "37/37 [==============================] - 26s 712ms/step - loss: 0.1695 - accuracy: 0.9530 - val_loss: 0.5406 - val_accuracy: 0.8889\n",
      "Epoch 12/20\n",
      "37/37 [==============================] - 30s 815ms/step - loss: 0.1384 - accuracy: 0.9586 - val_loss: 0.6630 - val_accuracy: 0.7222\n",
      "Epoch 13/20\n",
      "37/37 [==============================] - 37s 984ms/step - loss: 0.1362 - accuracy: 0.9586 - val_loss: 0.7913 - val_accuracy: 0.7778\n",
      "Epoch 14/20\n",
      "37/37 [==============================] - 33s 896ms/step - loss: 0.1358 - accuracy: 0.9503 - val_loss: 0.6751 - val_accuracy: 0.7667\n",
      "Epoch 15/20\n",
      "37/37 [==============================] - 31s 834ms/step - loss: 0.1603 - accuracy: 0.9392 - val_loss: 0.5091 - val_accuracy: 0.8444\n",
      "Epoch 16/20\n",
      "37/37 [==============================] - 36s 974ms/step - loss: 0.1603 - accuracy: 0.9309 - val_loss: 0.6752 - val_accuracy: 0.8333\n",
      "Epoch 17/20\n",
      "37/37 [==============================] - 34s 911ms/step - loss: 0.1367 - accuracy: 0.9503 - val_loss: 0.6144 - val_accuracy: 0.7889\n",
      "Epoch 18/20\n",
      "37/37 [==============================] - 27s 716ms/step - loss: 0.1357 - accuracy: 0.9558 - val_loss: 0.5558 - val_accuracy: 0.8556\n",
      "Epoch 19/20\n",
      "37/37 [==============================] - 27s 726ms/step - loss: 0.1241 - accuracy: 0.9669 - val_loss: 0.6319 - val_accuracy: 0.7778\n",
      "Epoch 20/20\n",
      "37/37 [==============================] - 29s 782ms/step - loss: 0.1114 - accuracy: 0.9586 - val_loss: 0.6297 - val_accuracy: 0.8000\n"
     ]
    }
   ],
   "source": [
    "try :\n",
    "    config = ConfigurationManager()\n",
    "    training_config = config.get_training_config()\n",
    "    training = Training(training_config)\n",
    "    training.get_base_model()\n",
    "    training.train_valid_generator()\n",
    "    training.train()\n",
    "except Exception as e :\n",
    "    raise customexception(e, sys)"
   ]
  },
  {
   "cell_type": "code",
   "execution_count": null,
   "metadata": {},
   "outputs": [],
   "source": []
  }
 ],
 "metadata": {
  "kernelspec": {
   "display_name": "venv",
   "language": "python",
   "name": "python3"
  },
  "language_info": {
   "codemirror_mode": {
    "name": "ipython",
    "version": 3
   },
   "file_extension": ".py",
   "mimetype": "text/x-python",
   "name": "python",
   "nbconvert_exporter": "python",
   "pygments_lexer": "ipython3",
   "version": "3.11.0"
  }
 },
 "nbformat": 4,
 "nbformat_minor": 2
}
